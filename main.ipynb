{
 "cells": [
  {
   "cell_type": "markdown",
   "metadata": {},
   "source": [
    "# Get the data"
   ]
  },
  {
   "cell_type": "code",
   "execution_count": 2,
   "metadata": {},
   "outputs": [
    {
     "data": {
      "text/plain": [
       "0"
      ]
     },
     "execution_count": 2,
     "metadata": {},
     "output_type": "execute_result"
    }
   ],
   "source": [
    "import os\n",
    "\n",
    "# Ensure your kaggle.json is in the correct location\n",
    "os.makedirs(os.path.expanduser(\"~/.kaggle/\"), exist_ok=True)\n",
    "\n",
    "# Replace 'dataset-owner/dataset-name' with the actual dataset path from Kaggle\n",
    "dataset = 'purusinghvi/email-spam-classification-dataset'\n",
    "\n",
    "# Use Kaggle API to download the dataset\n",
    "os.system(f'kaggle datasets download -d {dataset}')\n",
    "\n",
    "# Unzip the dataset (optional, if it's a compressed file)\n",
    "os.system(f'unzip {dataset.split(\"/\")[-1]}.zip')\n"
   ]
  },
  {
   "cell_type": "markdown",
   "metadata": {},
   "source": [
    "# creating pipelines\n",
    "\n",
    "# steps:\n",
    "1) Preprocessing the emails: \n",
    "> Strip headers, lowercase the email, remove punctuation,replace URLs, numbers,etc.\n",
    "\n",
    "2) Vectorization:\n",
    "> Use CountVectorizer or TfidfVectorizer to convert the processed text into a sparse matrix of feature vectors.\n",
    "\n",
    "3) Building a classifier:\n",
    "> Use classifiers like Logistic Regression, Random Forest, etc, and evaluate precision & recall"
   ]
  },
  {
   "cell_type": "code",
   "execution_count": 12,
   "metadata": {},
   "outputs": [],
   "source": [
    "#import all modules\n",
    "import re\n",
    "import string\n",
    "import pandas as pd\n",
    "from nltk.corpus import stopwords\n",
    "from nltk.stem import PorterStemmer\n",
    "from sklearn.model_selection import train_test_split\n",
    "from sklearn.feature_extraction.text import TfidfVectorizer\n",
    "from sklearn.linear_model import LogisticRegression\n",
    "from sklearn.ensemble import RandomForestClassifier\n",
    "from sklearn.neighbors import KNeighborsClassifier\n",
    "from sklearn.metrics import classification_report,accuracy_score"
   ]
  },
  {
   "cell_type": "code",
   "execution_count": 15,
   "metadata": {},
   "outputs": [
    {
     "name": "stderr",
     "output_type": "stream",
     "text": [
      "[nltk_data] Downloading package stopwords to\n",
      "[nltk_data]     C:\\Users\\haide\\AppData\\Roaming\\nltk_data...\n",
      "[nltk_data]   Package stopwords is already up-to-date!\n"
     ]
    }
   ],
   "source": [
    "#Download stopwords from nltk if not already downloaded\n",
    "import nltk\n",
    "nltk.download('stopwords')\n",
    "\n",
    "#initialize stemming and stopwords\n",
    "ps = PorterStemmer()\n",
    "stop_words = set(stopwords.words('english'))\n",
    "\n",
    "#preprocessing function\n",
    "def preprocess_email(email,strip_headers=True,lower_case=True,\n",
    "                     remove_punctuation=True,replace_urls=True,\n",
    "                     replace_numbers=True,stem=True):\n",
    "    # optinally strip headers(this assume that the email header is seperated by a \"\\n\\n\")\n",
    "    if strip_headers:\n",
    "        email_parts = email.split(\"\\n\\n\",1) #Remove header if exists\n",
    "        if len(email_parts) > 1:\n",
    "            email = email_parts[1]  #Only take the body is header exists\n",
    "            \n",
    "    #convert to lowercase\n",
    "    if lower_case:\n",
    "        email = email.lower()\n",
    "    \n",
    "    #Replace URLs with \"URL\"\n",
    "    if replace_urls:\n",
    "        email = re.sub(r'http\\S+|www\\S+|https\\S+','URL',email,flags=re.MULTILINE)\n",
    "\n",
    "    #Replace numbers with \"NUMBER\"\n",
    "    if replace_numbers:\n",
    "        email = re.sub(r'\\b\\d+\\b','NUMBER',email)\n",
    "    \n",
    "    #Replace Punctuation\n",
    "    if remove_punctuation:\n",
    "        email = email.translate(str.maketrans('','',string.punctuation))\n",
    "\n",
    "    #Tokenize, remove stopwords and optionally stem\n",
    "    words = email.split()\n",
    "    words = [word for word in words if word not in stop_words] #remove stopwords\n",
    "    if stem:\n",
    "        words = [ps.stem(word) for word in words] #Apply stemming\n",
    "    \n",
    "    return ' '.join(words)\n",
    "\n",
    "\n"
   ]
  },
  {
   "cell_type": "markdown",
   "metadata": {},
   "source": [
    "# Organizing data"
   ]
  },
  {
   "cell_type": "code",
   "execution_count": 17,
   "metadata": {},
   "outputs": [],
   "source": [
    "#dataframe\n",
    "df = pd.read_csv('combined_data.csv')\n",
    "\n",
    "#preprocess the emails\n",
    "df['email_cleaned'] = df['text'].apply(lambda x: preprocess_email(x))\n",
    "\n",
    "# Vectorize the cleaned email using TfidfVectorizer\n",
    "vectorizer = TfidfVectorizer(binary=True) #inary Vectorization (presence or absence of a word)\n",
    "X = vectorizer.fit_transform(df['email_cleaned'])\n"
   ]
  },
  {
   "cell_type": "code",
   "execution_count": 19,
   "metadata": {},
   "outputs": [],
   "source": [
    "#train-test split\n",
    "X_train,X_test,y_train,y_test = train_test_split(X,df['label'],test_size=0.2,random_state=42)\n",
    "X_train,X_val,y_train,y_val = train_test_split(X_train,y_train,test_size=0.2,random_state=42)"
   ]
  },
  {
   "cell_type": "code",
   "execution_count": 24,
   "metadata": {},
   "outputs": [
    {
     "name": "stdout",
     "output_type": "stream",
     "text": [
      "X_train:  (53406, 254820)\n",
      "y_train:  (53406,)\n",
      "X_val:  (13352, 254820)\n",
      "y_val:  (13352,)\n",
      "X_test:  (16690, 254820)\n",
      "y_test:  (16690,)\n"
     ]
    }
   ],
   "source": [
    "print('X_train: ',X_train.shape)\n",
    "print('y_train: ',y_train.shape)\n",
    "print('X_val: ',X_val.shape) \n",
    "print('y_val: ',y_val.shape)\n",
    "print('X_test: ',X_test.shape)\n",
    "print('y_test: ',y_test.shape)"
   ]
  },
  {
   "cell_type": "markdown",
   "metadata": {},
   "source": [
    "# Training & Evaluation"
   ]
  },
  {
   "cell_type": "code",
   "execution_count": 28,
   "metadata": {},
   "outputs": [
    {
     "name": "stdout",
     "output_type": "stream",
     "text": [
      "Logistic Regression Results: \n",
      "              precision    recall  f1-score   support\n",
      "\n",
      "           0       0.99      0.97      0.98      6252\n",
      "           1       0.97      0.99      0.98      7100\n",
      "\n",
      "    accuracy                           0.98     13352\n",
      "   macro avg       0.98      0.98      0.98     13352\n",
      "weighted avg       0.98      0.98      0.98     13352\n",
      "\n",
      "Accuracy:  0.981725584182145\n"
     ]
    }
   ],
   "source": [
    "#Logistic Regression\n",
    "lr = LogisticRegression()\n",
    "lr.fit(X_train,y_train)\n",
    "\n",
    "#predict on test set\n",
    "y_pred = lr.predict(X_val)\n",
    "\n",
    "#Evaluate the model\n",
    "print(\"Logistic Regression Results: \")\n",
    "print(classification_report(y_val,y_pred))\n",
    "print(\"Accuracy: \",accuracy_score(y_val,y_pred))\n"
   ]
  },
  {
   "cell_type": "code",
   "execution_count": 26,
   "metadata": {},
   "outputs": [
    {
     "name": "stdout",
     "output_type": "stream",
     "text": [
      "Logistic Regression Results: \n",
      "              precision    recall  f1-score   support\n",
      "\n",
      "           0       0.98      0.98      0.98      6252\n",
      "           1       0.99      0.98      0.98      7100\n",
      "\n",
      "    accuracy                           0.98     13352\n",
      "   macro avg       0.98      0.98      0.98     13352\n",
      "weighted avg       0.98      0.98      0.98     13352\n",
      "\n",
      "Accuracy:  0.9837477531455961\n"
     ]
    }
   ],
   "source": [
    "#Random Forest Classifier\n",
    "rf = RandomForestClassifier()\n",
    "rf.fit(X_train,y_train)\n",
    "\n",
    "#predict on test set\n",
    "y_pred = rf.predict(X_val)\n",
    "\n",
    "#Evaluate the model\n",
    "print(\"Logistic Regression Results: \")\n",
    "print(classification_report(y_val,y_pred))\n",
    "print(\"Accuracy: \",accuracy_score(y_val,y_pred))\n"
   ]
  },
  {
   "cell_type": "code",
   "execution_count": 27,
   "metadata": {},
   "outputs": [
    {
     "name": "stdout",
     "output_type": "stream",
     "text": [
      "KNeighborsClassifier Results: \n",
      "              precision    recall  f1-score   support\n",
      "\n",
      "           0       0.97      0.35      0.52      6252\n",
      "           1       0.63      0.99      0.77      7100\n",
      "\n",
      "    accuracy                           0.69     13352\n",
      "   macro avg       0.80      0.67      0.65     13352\n",
      "weighted avg       0.79      0.69      0.65     13352\n",
      "\n",
      "Accuracy:  0.6923307369682444\n"
     ]
    }
   ],
   "source": [
    "knc = KNeighborsClassifier()\n",
    "knc.fit(X_train,y_train)\n",
    "\n",
    "y_pred = knc.predict(X_val)\n",
    "\n",
    "print(\"KNeighborsClassifier Results: \")\n",
    "print(classification_report(y_val,y_pred))\n",
    "print('Accuracy: ',accuracy_score(y_val,y_pred))"
   ]
  },
  {
   "cell_type": "markdown",
   "metadata": {},
   "source": [
    "# Conclusion:\n",
    "\n",
    "1) Best Model : RF with 98.3% acc score\n",
    "2) KNN model score issue causes: \n",
    "> curse of dimensionality, computational complexity, Sensitivity to Noise.."
   ]
  }
 ],
 "metadata": {
  "kernelspec": {
   "display_name": "Python 3",
   "language": "python",
   "name": "python3"
  },
  "language_info": {
   "codemirror_mode": {
    "name": "ipython",
    "version": 3
   },
   "file_extension": ".py",
   "mimetype": "text/x-python",
   "name": "python",
   "nbconvert_exporter": "python",
   "pygments_lexer": "ipython3",
   "version": "3.11.9"
  }
 },
 "nbformat": 4,
 "nbformat_minor": 2
}
